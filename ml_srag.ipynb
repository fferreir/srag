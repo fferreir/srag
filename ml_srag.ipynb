{
 "cells": [
  {
   "cell_type": "markdown",
   "id": "5026da1b-cd37-4398-98b7-d2269933e358",
   "metadata": {},
   "source": [
    "# Utiliza aprendizado de máquina para predizer evolução para UTI de pacientes de SRAG por influenza"
   ]
  },
  {
   "cell_type": "code",
   "execution_count": 2,
   "id": "b3adf8ad-fdd2-4e87-b8c5-c6fcfc219b9f",
   "metadata": {},
   "outputs": [],
   "source": [
    "import pandas as pd\n",
    "import os\n",
    "import datetime\n",
    "import dateutil\n",
    "import numpy as np\n",
    "\n",
    "pd.set_option('display.max_columns', None)"
   ]
  },
  {
   "cell_type": "code",
   "execution_count": 3,
   "id": "60fafa1a-aa04-4ccd-b652-d040cf17cc82",
   "metadata": {},
   "outputs": [],
   "source": [
    "dados = pd.read_parquet('../influenza_ML_2025-10-30_16-28-12.parquet')"
   ]
  },
  {
   "cell_type": "code",
   "execution_count": null,
   "id": "6eba11a5-ee94-473c-a7d1-330dee135746",
   "metadata": {},
   "outputs": [],
   "source": []
  }
 ],
 "metadata": {
  "kernelspec": {
   "display_name": "Univesp",
   "language": "python",
   "name": "univesp"
  },
  "language_info": {
   "codemirror_mode": {
    "name": "ipython",
    "version": 3
   },
   "file_extension": ".py",
   "mimetype": "text/x-python",
   "name": "python",
   "nbconvert_exporter": "python",
   "pygments_lexer": "ipython3",
   "version": "3.12.3"
  }
 },
 "nbformat": 4,
 "nbformat_minor": 5
}
